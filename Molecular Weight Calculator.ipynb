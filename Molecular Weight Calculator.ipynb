{
 "cells": [
  {
   "cell_type": "code",
   "execution_count": 6,
   "id": "73dd329e",
   "metadata": {},
   "outputs": [],
   "source": [
    "import io\n",
    "\n",
    "fhandle = io.open(\"LEGO.txt\")\n",
    "\n",
    "for line in fhandle:\n",
    "    line_stripped = line.strip().split()\n",
    "    "
   ]
  },
  {
   "cell_type": "code",
   "execution_count": 1,
   "id": "b99b5799",
   "metadata": {},
   "outputs": [
    {
     "name": "stdout",
     "output_type": "stream",
     "text": [
      "PZ7180000000004_TX\t308911.36\n",
      "PZ7180000027934\t289161.41000000003\n",
      "PZ7180000000004_TY\t308781.32\n",
      "PZ7180000024036\t290086.45999999996\n"
     ]
    }
   ],
   "source": [
    "import io\n",
    "\n",
    "fhandle = io.open(\"LEGO.txt\")\n",
    "\n",
    "for line in fhandle: # iterates entire list\n",
    "    line_stripped = line.strip().split(\"\\t\")\n",
    "    ID = line_stripped[0]\n",
    "    DNA = line_stripped[1] # this is a list \n",
    "    A_count = DNA.count('A')\n",
    "    C_count = DNA.count('C')\n",
    "    T_count = DNA.count('T')\n",
    "    G_count = DNA.count('G')\n",
    "    mol_weight = ((A_count*313.21)+(T_count*304.2)+(C_count*289.18)+((G_count*329.21)-61.96))\n",
    "    print(ID + \"\\t\" + str(mol_weight)) # DNA list must me made in to a float \n",
    "    "
   ]
  },
  {
   "cell_type": "code",
   "execution_count": null,
   "id": "32650416",
   "metadata": {},
   "outputs": [],
   "source": []
  }
 ],
 "metadata": {
  "kernelspec": {
   "display_name": "Python 3 (ipykernel)",
   "language": "python",
   "name": "python3"
  },
  "language_info": {
   "codemirror_mode": {
    "name": "ipython",
    "version": 3
   },
   "file_extension": ".py",
   "mimetype": "text/x-python",
   "name": "python",
   "nbconvert_exporter": "python",
   "pygments_lexer": "ipython3",
   "version": "3.9.12"
  }
 },
 "nbformat": 4,
 "nbformat_minor": 5
}

{
 "cells": [
  {
   "cell_type": "code",
   "execution_count": 18,
   "id": "da6aa396",
   "metadata": {},
   "outputs": [
    {
     "name": "stdout",
     "output_type": "stream",
     "text": [
      "ATGA\n",
      "A\n",
      "T\n",
      "G\n",
      "A\n",
      "T\n",
      "A\n",
      "G\n",
      "A\n",
      "G\n",
      "G\n",
      "G\n",
      "A\n",
      "T\n",
      "A\n",
      "C\n",
      "G\n",
      "G\n",
      "G\n",
      "A\n",
      "T\n",
      "A\n",
      "G\n"
     ]
    },
    {
     "data": {
      "text/plain": [
       "' Will give all characters individually'"
      ]
     },
     "execution_count": 18,
     "metadata": {},
     "output_type": "execute_result"
    }
   ],
   "source": [
    " # You wan't to find where \"GATA\" appears in seq\n",
    "seq = \"ATGATAGAGGGATACGGGATAG\"\n",
    "sub_seq= \"GATA\"\n",
    "print(seq[0:4])\n",
    "\n",
    "#STEP 1\n",
    "# Iterating over characters\n",
    "for i in seq:\n",
    "    print(i)\n",
    "# Gives all characters individually"
   ]
  },
  {
   "cell_type": "code",
   "execution_count": 22,
   "id": "14135104",
   "metadata": {},
   "outputs": [
    {
     "name": "stdout",
     "output_type": "stream",
     "text": [
      "0\n",
      "1\n",
      "2\n",
      "3\n",
      "4\n",
      "5\n",
      "6\n",
      "7\n",
      "8\n",
      "9\n",
      "10\n",
      "11\n",
      "12\n",
      "13\n",
      "14\n",
      "15\n",
      "16\n",
      "17\n",
      "18\n",
      "19\n",
      "20\n",
      "21\n"
     ]
    },
    {
     "data": {
      "text/plain": [
       "' This will give location of each iterable'"
      ]
     },
     "execution_count": 22,
     "metadata": {},
     "output_type": "execute_result"
    }
   ],
   "source": [
    "seq = \"ATGATAGAGGGATACGGGATAG\"\n",
    "sub_seq= \"GATA\"\n",
    "\n",
    "#STEP 2 Iterating over range\n",
    "\n",
    "for i in range(len(seq)):\n",
    "    print(i)\n",
    "''' This will give location of each iterable'''"
   ]
  },
  {
   "cell_type": "code",
   "execution_count": 83,
   "id": "6355cd2b",
   "metadata": {},
   "outputs": [
    {
     "name": "stdout",
     "output_type": "stream",
     "text": [
      "Found a match at position:2\n",
      "Found a match at position:10\n",
      "Found a match at position:17\n"
     ]
    }
   ],
   "source": [
    "s1 = \"ATGATAGAGGGATACGGGATAG\"\n",
    "s2 = \"GATA\"\n",
    "\n",
    "'''STEP 3: Now you're starting at index 0 and adding\n",
    "+ 4 characters and printing corresponding string'''\n",
    "\n",
    "#VERY IMPORTANT NOW YOU CAN ESSENTIALLY SEARCH\n",
    "#ENTIRE STRING BY ANY CHARACTER LENGTH AND HAVE IT \n",
    "#MATCH YOUR SUBSEQ\n",
    "#Last 3 characters excluded because of divisibility\n",
    "\n",
    "for index in range(len(s1)-3):\n",
    "    if seq[index:index+4] == s2:\n",
    "        print(f'Found a match at position:{index}')\n",
    "            "
   ]
  },
  {
   "cell_type": "code",
   "execution_count": 2,
   "id": "14bc3642",
   "metadata": {},
   "outputs": [
    {
     "name": "stdout",
     "output_type": "stream",
     "text": [
      "Match at positions:\n"
     ]
    },
    {
     "data": {
      "text/plain": [
       "[3, 11, 18]"
      ]
     },
     "execution_count": 2,
     "metadata": {},
     "output_type": "execute_result"
    }
   ],
   "source": [
    "#List Comprehension Mode in a function\n",
    "#Position of the matches will appear in\n",
    "#List Format\n",
    "s1 = \"ATGATAGAGGGATACGGGATAG\"\n",
    "s2 = \"GATA\"\n",
    "def string_match(s1,s2):\n",
    "    return [index+1\n",
    "        for index in range(len(s1)-3)\n",
    "        if s1[index:index+4] == s2] \n",
    "print(\"Match at positions:\") \n",
    "string_match(s1,s2)"
   ]
  },
  {
   "cell_type": "code",
   "execution_count": null,
   "id": "5a2dc75d",
   "metadata": {},
   "outputs": [],
   "source": []
  }
 ],
 "metadata": {
  "kernelspec": {
   "display_name": "Python 3 (ipykernel)",
   "language": "python",
   "name": "python3"
  },
  "language_info": {
   "codemirror_mode": {
    "name": "ipython",
    "version": 3
   },
   "file_extension": ".py",
   "mimetype": "text/x-python",
   "name": "python",
   "nbconvert_exporter": "python",
   "pygments_lexer": "ipython3",
   "version": "3.9.12"
  }
 },
 "nbformat": 4,
 "nbformat_minor": 5
}

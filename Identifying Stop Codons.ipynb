{
 "cells": [
  {
   "cell_type": "code",
   "execution_count": null,
   "id": "903f8076",
   "metadata": {},
   "outputs": [],
   "source": [
    "#Identifying Stop Codons\n",
    "'''Counting Stop Codons'''\n",
    "import io\n",
    "\n",
    "fhandle = io.open(\"seq.txt\")\n",
    "seq = fhandle.readline().strip()\n",
    "a = len(seq)\n",
    "codon_count = 0\n",
    "stop_counter = 0\n",
    "for index in range(0, len(seq) - 3 + 1): # includes all 15 letters from string to iterate through\n",
    "    codon = seq[index:index + 3] # defines codon as 3 letter increments starting from 0 \n",
    "    codon_count += 1\n",
    "    print(\"Codon \" + str(index) + \" is \" + codon)\n",
    "    #print(codon)\n",
    "    if codon == \"TAG\" or codon == \"TAA\" or codon == \"TGA\":\n",
    "        stop_counter += 1\n",
    "codon_count = codon_count - 1\n",
    "print(\"Sequence length is: \" + str(a))\n",
    "print(\"Number of codons is: \" + str(codon_count))\n",
    "print(\"Number of stop codons is: \" + str(stop_counter))"
   ]
  }
 ],
 "metadata": {
  "kernelspec": {
   "display_name": "Python 3 (ipykernel)",
   "language": "python",
   "name": "python3"
  },
  "language_info": {
   "codemirror_mode": {
    "name": "ipython",
    "version": 3
   },
   "file_extension": ".py",
   "mimetype": "text/x-python",
   "name": "python",
   "nbconvert_exporter": "python",
   "pygments_lexer": "ipython3",
   "version": "3.9.12"
  }
 },
 "nbformat": 4,
 "nbformat_minor": 5
}

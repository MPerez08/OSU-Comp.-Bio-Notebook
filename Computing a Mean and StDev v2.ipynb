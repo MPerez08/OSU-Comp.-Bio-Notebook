{
 "cells": [
  {
   "cell_type": "code",
   "execution_count": 4,
   "id": "8d61e33d",
   "metadata": {},
   "outputs": [
    {
     "name": "stdout",
     "output_type": "stream",
     "text": [
      "['PZ7180000000004_TY', 'YKL081W', '31.07', '338', '197', '8', '13', '993', '1', '313', '1e-32', '  124']\n",
      "['PZ1082_AB', 'YHR104W', '44.92', '118', '62', '3', '4', '348', '196', '313', '1e-26', '  100']\n",
      "['PZ11_FX', 'YLR406C', '53.01', '83', '38', '1', '290', '42', '25', '106', '7e-15', '65.9']\n",
      "['PZ7180000036154', 'YNL245C', '36.27', '102', '60', '3', '105', '395', '1', '102', '3e-07', '46.2']\n",
      "['PZ605962', 'YKR079C', '29.57', '115', '66', '4', '429', '121', '479', '590', '3e-11', '59.3']\n",
      "['PZ856513', 'YKL215C', '48.39', '155', '73', '3', '3', '452', '109', '261', '3e-37', '  135']\n",
      "['PZ7180000024771', 'YFL037W', '75.73', '103', '25', '0', '849', '541', '323', '425', '5e-52', '  177']\n",
      "['PZ7180000021475', 'YFR050C', '36.40', '250', '140', '6', '123', '839', '17', '258', '8e-45', '  154']\n",
      "['PZ7180000032158', 'YPL198W', '68.83', '77', '24', '0', '232', '2', '61', '137', '6e-30', '  109']\n",
      "['PZ7180000024778', 'YKL088W', '48.62', '109', '54', '2', '539', '219', '389', '497', '2e-26', '  106']\n",
      "['PZ7180000033595', 'YDR018C', '25.27', '273', '163', '9', '847', '125', '113', '376', '1e-16', '79.3']\n",
      "['PZ7180000036896', 'YKL095W', '28.95', '114', '76', '3', '219', '545', '41', '154', '2e-08', '52.8']\n",
      "['PZ789897_ATR', 'YBR019C', '33.09', '136', '77', '7', '379', '5', '14', '146', '1e-09', '54.3']\n",
      "['PZ488295', 'YIL106W', '35.00', '140', '87', '3', '410', '3', '93', '232', '1e-22', '90.1']\n",
      "['PZ7180000023623', 'YMR234W', '36.42', '162', '83', '7', '1055', '624', '188', '347', '5e-14', '70.9']\n",
      "['PZ545_OM', 'YPL131W', '43.75', '64', '31', '1', '201', '392', '194', '252', '8e-09', '51.6']\n",
      "['PZ7180000000106_L', 'YNL202W', '28.35', '254', '171', '4', '55', '804', '21', '267', '2e-21', '90.1']\n",
      "['PZ7180000031008', 'YKL060C', '55.81', '129', '56', '1', '395', '9', '176', '303', '1e-49', '  162']\n",
      "['PZ7180000028269_AFW', 'YHR013C', '62.22', '45', '17', '0', '247', '113', '148', '192', '1e-14', '64.7']\n",
      "['PZ7180000000124_L', 'YKL055C', '27.75', '173', '95', '5', '538', '77', '114', '275', '2e-10', '58.2']\n",
      "['PZ7180000000157_L', 'YKR009C', '26.54', '260', '153', '8', '746', '6', '10', '244', '3e-18', '82.8']\n",
      "['PZ7180000000646_B', 'YHR007C', '31.01', '129', '86', '2', '398', '21', '281', '409', '2e-13', '66.2']\n",
      "['PZ7180000000117_K', 'YOR113W', '39.25', '107', '63', '1', '481', '167', '591', '697', '9e-24', '97.1']\n",
      "['PZ7180000037033_ADR', 'YBR198C', '26.07', '211', '109', '7', '219', '842', '523', '689', '8e-11', '61.2']\n"
     ]
    }
   ],
   "source": [
    "import io\n",
    "import math\n",
    "fhandle = io.open(\"pz_blastx_yeast_top1.txt\")\n",
    "\n",
    "counter = 0\n",
    "sum_eval = 0.0\n",
    "\n",
    "E = 0.0\n",
    "for line in fhandle:# iterates entire list \n",
    "    line_stripped = line.strip().split(\"\\t\") #removes extra line of white space between lines & creates list\n",
    "    eval = line_stripped[10] #iteration only returns 11th column -- a list of strings\n",
    "    sum_eval += float(eval) # converts strings to float and then adds each line up to sum_eval\n",
    "    counter += 1           # per line iterated, adds a 1 to counter -- (gives total lines)\n",
    "    mean = sum_eval/counter\n",
    "    sqrs = float(eval) - mean\n",
    "    sqrs_sq = sqrs**2\n",
    "    E += sqrs_sq\n",
    "    print(line_stripped)\n",
    " \n",
    "pop_samp = counter -1\n",
    "inside = E/pop_samp\n",
    "stdev = math.sqrt(inside)\n",
    "mean = sum_eval/counter \n",
    "fhandle.close()\n"
   ]
  }
 ],
 "metadata": {
  "kernelspec": {
   "display_name": "Python 3 (ipykernel)",
   "language": "python",
   "name": "python3"
  },
  "language_info": {
   "codemirror_mode": {
    "name": "ipython",
    "version": 3
   },
   "file_extension": ".py",
   "mimetype": "text/x-python",
   "name": "python",
   "nbconvert_exporter": "python",
   "pygments_lexer": "ipython3",
   "version": "3.9.12"
  }
 },
 "nbformat": 4,
 "nbformat_minor": 5
}
